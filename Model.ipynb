{
  "nbformat": 4,
  "nbformat_minor": 0,
  "metadata": {
    "colab": {
      "provenance": [],
      "machine_shape": "hm",
      "gpuType": "V100"
    },
    "kernelspec": {
      "name": "python3",
      "display_name": "Python 3"
    },
    "language_info": {
      "name": "python"
    },
    "accelerator": "GPU"
  },
  "cells": [
    {
      "cell_type": "code",
      "source": [
        "from google.colab import drive\n",
        "drive.mount('/content/drive')"
      ],
      "metadata": {
        "colab": {
          "base_uri": "https://localhost:8080/"
        },
        "id": "I3BEEpMKppku",
        "outputId": "47bb98d3-a0d1-4fe4-c290-ea8a6c1b61b5"
      },
      "execution_count": 1,
      "outputs": [
        {
          "output_type": "stream",
          "name": "stdout",
          "text": [
            "Drive already mounted at /content/drive; to attempt to forcibly remount, call drive.mount(\"/content/drive\", force_remount=True).\n"
          ]
        }
      ]
    },
    {
      "cell_type": "code",
      "execution_count": 3,
      "metadata": {
        "colab": {
          "base_uri": "https://localhost:8080/"
        },
        "id": "H9iLhQPB3dV3",
        "outputId": "e33f9d50-4afb-4759-c9d7-51f9042745f9"
      },
      "outputs": [
        {
          "output_type": "stream",
          "name": "stdout",
          "text": [
            "\u001b[?25l     \u001b[90m━━━━━━━━━━━━━━━━━━━━━━━━━━━━━━━━━━━━━━━━\u001b[0m \u001b[32m0.0/160.0 kB\u001b[0m \u001b[31m?\u001b[0m eta \u001b[36m-:--:--\u001b[0m\r\u001b[2K     \u001b[91m━━━━━━━━━━━━━━━━━━━━━━━━━━━━━━━━━━━━━\u001b[0m\u001b[90m╺\u001b[0m\u001b[90m━\u001b[0m \u001b[32m153.6/160.0 kB\u001b[0m \u001b[31m4.6 MB/s\u001b[0m eta \u001b[36m0:00:01\u001b[0m\r\u001b[2K     \u001b[90m━━━━━━━━━━━━━━━━━━━━━━━━━━━━━━━━━━━━━━━\u001b[0m \u001b[32m160.0/160.0 kB\u001b[0m \u001b[31m3.7 MB/s\u001b[0m eta \u001b[36m0:00:00\u001b[0m\n",
            "\u001b[?25h"
          ]
        }
      ],
      "source": [
        "!pip install --q wfdb"
      ]
    },
    {
      "cell_type": "code",
      "execution_count": 4,
      "metadata": {
        "id": "J9DbuGJD23tc"
      },
      "outputs": [],
      "source": [
        "# Import necessary libraries and modules for data analysis, visualization, and modeling.\n",
        "import os\n",
        "import numpy as np\n",
        "import pandas as pd\n",
        "import matplotlib.pyplot as plt\n",
        "import seaborn as sns\n",
        "from sklearn.model_selection import train_test_split\n",
        "from sklearn.preprocessing import StandardScaler\n",
        "from sklearn.ensemble import RandomForestClassifier\n",
        "from sklearn.metrics import accuracy_score, classification_report, confusion_matrix\n",
        "\n",
        "# Import 'wfdb' library for working with physiological signal data.\n",
        "import wfdb\n",
        "\n",
        "# Import 'scipy.signal' module for signal processing.\n",
        "from scipy import signal\n",
        "\n",
        "import plotly.express as px\n",
        "import plotly.graph_objects as go\n",
        "import plotly.figure_factory as ff"
      ]
    },
    {
      "cell_type": "code",
      "execution_count": 5,
      "metadata": {
        "id": "DcKVCTy83aU9"
      },
      "outputs": [],
      "source": [
        "path = \"physionet.org/files/ptbdb/1.0.0/\"\n",
        "files = os.listdir(path)"
      ]
    },
    {
      "cell_type": "code",
      "execution_count": 6,
      "metadata": {
        "id": "xqfzN9uu3xZr"
      },
      "outputs": [],
      "source": [
        "data = []\n",
        "for item in files:\n",
        "    full_path = os.path.join(path, item)\n",
        "    if os.path.isdir(full_path):\n",
        "        data.append(item)"
      ]
    },
    {
      "cell_type": "code",
      "execution_count": 7,
      "metadata": {
        "id": "iL56-lFR4EZ5"
      },
      "outputs": [],
      "source": [
        "def remove_baseline_noise(ecg_signal, sr=1000, freq=0.5):\n",
        "    nyquist_freq = 0.5 * sr\n",
        "    low_cutoff = freq / nyquist_freq\n",
        "    b, a = signal.butter(1, low_cutoff, btype='high')\n",
        "    baseline_removed_signal = signal.filtfilt(b, a, ecg_signal, axis=0)\n",
        "\n",
        "    high_cutoff = 40.0 / nyquist_freq\n",
        "    b, a = signal.butter(1, high_cutoff, btype='low')\n",
        "    noise_removed_signal = signal.filtfilt(b, a, baseline_removed_signal, axis=0)\n",
        "\n",
        "    return noise_removed_signal\n",
        "\n",
        "def filter_ecg_signal(ecg_signal, sr=1000, freq=40.0):\n",
        "    nyquist_freq = 0.5 * sr\n",
        "    high_cutoff = freq / nyquist_freq\n",
        "    b, a = signal.butter(1, high_cutoff, btype='low')\n",
        "    filtered_signal = signal.filtfilt(b, a, ecg_signal, axis=0)\n",
        "    return filtered_signal\n"
      ]
    },
    {
      "cell_type": "code",
      "source": [
        "ecg_signals=[]\n",
        "diagnosis=[]\n",
        "max_rec=[]\n",
        "min_shape=10000000000\n",
        "for folder in data:\n",
        "    patient_path = os.path.join(path, folder)\n",
        "    file_list = os.listdir(patient_path)\n",
        "\n",
        "    # Filter for .dat files\n",
        "    dat_files = [file for file in file_list if file.endswith(\".dat\")]\n",
        "\n",
        "    # Print the names of .dat files\n",
        "    for dat_file in dat_files:\n",
        "        record_path= os.path.join(patient_path,dat_file)\n",
        "        record = wfdb.rdrecord(record_path[:-4], channels=list(range(15)))\n",
        "        fs = record.fs  # Sampling frequency\n",
        "        signal_names = record.sig_name  # List of signal names\n",
        "        ecg_signal = record.p_signal  # ECG signal data\n",
        "        processed_signal = remove_baseline_noise(ecg_signal)\n",
        "        processed_signal = filter_ecg_signal(processed_signal)\n",
        "        ecg_signals.append(processed_signal)\n",
        "        if ecg_signal.shape[0]<min_shape:\n",
        "            min_shape = ecg_signal.shape[0]\n",
        "        with open(record_path[:-4]+'.hea', 'r') as file:\n",
        "            lines = file.readlines()\n",
        "        diagnosis_section_start = lines.index('# Diagnose:\\n') + 1\n",
        "        diagnosis_section_end = lines.index('# Hemodynamics:\\n')\n",
        "\n",
        "        reason_for_diagnosis = ''\n",
        "        for line in lines[diagnosis_section_start:diagnosis_section_end]:\n",
        "            if line.startswith('# Reason for admission:'):\n",
        "                reason_for_diagnosis = line.strip().split(': ')[1]\n",
        "                break\n",
        "        diagnosis.append(reason_for_diagnosis)\n"
      ],
      "metadata": {
        "id": "-5QZsnrW_gbO"
      },
      "execution_count": 8,
      "outputs": []
    },
    {
      "cell_type": "code",
      "execution_count": 9,
      "metadata": {
        "id": "7268ecbf",
        "colab": {
          "base_uri": "https://localhost:8080/"
        },
        "outputId": "da3b4cd4-4b21-405f-e51e-dc8683b74f4a"
      },
      "outputs": [
        {
          "output_type": "execute_result",
          "data": {
            "text/plain": [
              "[0, 3, 5]"
            ]
          },
          "metadata": {},
          "execution_count": 9
        }
      ],
      "source": [
        "selected_signal_names= [0, 3, 5]\n",
        "selected_signal_names"
      ]
    },
    {
      "cell_type": "code",
      "execution_count": 10,
      "metadata": {
        "id": "343a2f2f"
      },
      "outputs": [],
      "source": [
        "ecg_signals_reshaped=[]\n",
        "for ar in ecg_signals:\n",
        "    ecg_signals_reshaped.append(ar[:min_shape])\n",
        "ecg_signals_reshaped=np.array(ecg_signals_reshaped)"
      ]
    },
    {
      "cell_type": "code",
      "execution_count": 11,
      "metadata": {
        "id": "osv5YxlmRNIw"
      },
      "outputs": [],
      "source": [
        "disease_class = ['Myocardial infarction', 'Valvular heart disease', 'Dysrhythmia',\n",
        "                 'Heart failure (NYHA 2)', 'Heart failure (NYHA 3)', 'Heart failure (NYHA 4)',\n",
        "                 'Palpitation', 'Cardiomyopathy', 'Stable angina', 'Hypertrophy',\n",
        "                 'Bundle branch block', 'Unstable angina', 'Myocarditis']"
      ]
    },
    {
      "cell_type": "code",
      "execution_count": 12,
      "metadata": {
        "id": "EQvkS_KGRNLH",
        "colab": {
          "base_uri": "https://localhost:8080/"
        },
        "outputId": "a8d6098d-478d-4a0a-9d15-c8246a09eacc"
      },
      "outputs": [
        {
          "output_type": "stream",
          "name": "stdout",
          "text": [
            "[1, 1, 1, 1, 1, 1, 1, 1, 1, 1, 1, 1, 1, 1, 1, 1, 1, 1, 1, 1, 1, 1, 1, 1, 1, 1, 1, 1, 1, 1, 1, 1, 1, 1, 1, 1, 1, 1, 1, 1, 1, 1, 1, 1, 1, 1, 1, 1, 1, 1, 1, 1, 1, 1, 1, 1, 1, 1, 1, 1, 1, 1, 1, 1, 1, 1, 1, 1, 1, 1, 1, 1, 1, 1, 1, 1, 1, 1, 1, 1, 1, 1, 1, 1, 1, 1, 1, 1, 1, 1, 1, 1, 1, 1, 1, 1, 1, 1, 1, 1, 1, 1, 1, 1, 1, 1, 1, 1, 1, 1, 1, 1, 1, 1, 1, 1, 1, 1, 1, 1, 1, 1, 1, 1, 1, 1, 1, 1, 1, 1, 1, 1, 1, 1, 1, 1, 1, 1, 1, 1, 1, 1, 1, 1, 1, 1, 1, 1, 1, 1, 1, 1, 1, 1, 1, 1, 1, 1, 1, 1, 1, 1, 1, 1, 1, 1, 1, 1, 1, 1, 1, 1, 1, 1, 1, 1, 1, 1, 1, 1, 1, 1, 1, 1, 1, 1, 1, 1, 1, 1, 1, 1, 1, 1, 1, 1, 1, 1, 1, 1, 1, 1, 1, 1, 1, 1, 1, 1, 1, 1, 1, 1, 1, 1, 1, 1, 1, 1, 1, 1, 1, 1, 1, 1, 1, 1, 1, 1, 1, 1, 1, 1, 1, 1, 1, 1, 1, 1, 1, 1, 1, 1, 1, 1, 1, 1, 1, 1, 1, 1, 1, 1, 1, 1, 1, 1, 1, 1, 1, 1, 1, 1, 1, 1, 1, 1, 1, 1, 1, 1, 1, 1, 1, 1, 1, 1, 1, 1, 1, 1, 1, 1, 1, 1, 1, 1, 1, 1, 1, 1, 1, 1, 1, 1, 1, 1, 1, 1, 1, 1, 1, 1, 1, 1, 1, 1, 1, 1, 1, 1, 1, 1, 1, 1, 1, 1, 0, 0, 1, 1, 1, 1, 1, 1, 1, 1, 1, 1, 1, 0, 0, 0, 1, 0, 1, 0, 0, 1, 0, 1, 1, 1, 1, 1, 1, 0, 1, 1, 0, 1, 1, 1, 1, 1, 1, 0, 0, 1, 0, 1, 1, 1, 1, 0, 1, 1, 1, 0, 0, 0, 1, 1, 1, 1, 1, 0, 1, 0, 0, 0, 0, 0, 1, 1, 1, 0, 0, 0, 1, 0, 0, 0, 0, 0, 1, 0, 1, 0, 0, 0, 0, 0, 0, 0, 0, 0, 0, 0, 0, 1, 0, 0, 0, 1, 1, 1, 0, 0, 1, 0, 1, 0, 1, 1, 1, 1, 0, 0, 1, 0, 1, 1, 1, 1, 1, 1, 1, 1, 1, 1, 1, 1, 1, 1, 1, 1, 0, 1, 1, 1, 1, 1, 1, 1, 1, 1, 1, 1, 1, 1, 1, 1, 0, 0, 1, 1, 1, 0, 0, 0, 0, 0, 0, 0, 0, 0, 0, 0, 0, 0, 0, 0, 0, 0, 0, 0, 0, 0, 0, 0, 0, 1, 1, 0, 0, 0, 0, 1, 1, 0, 1, 1, 1, 1, 0, 1, 1, 0, 0, 1, 0, 0, 1, 1, 1, 1, 1, 1, 1, 0, 0, 0, 0, 0, 0, 0, 0, 0, 0, 1, 0, 1, 1, 0, 0, 0, 0, 1, 1, 1, 1, 1, 1, 1, 1, 1, 1, 1, 1]\n"
          ]
        }
      ],
      "source": [
        "healthy_control_class = ['Healthy control', 'n/a']\n",
        "\n",
        "# Create a new list to represent the two classes\n",
        "new_diagnosis = []\n",
        "\n",
        "for d in diagnosis:\n",
        "    if d in disease_class:\n",
        "        new_diagnosis.append(1)\n",
        "    elif d in healthy_control_class:\n",
        "        new_diagnosis.append(0)\n",
        "\n",
        "print(new_diagnosis)"
      ]
    },
    {
      "cell_type": "code",
      "source": [
        "y=np.array(new_diagnosis)"
      ],
      "metadata": {
        "id": "D0-GC28ZV8RO"
      },
      "execution_count": 13,
      "outputs": []
    },
    {
      "cell_type": "code",
      "execution_count": 14,
      "metadata": {
        "id": "51f823b8"
      },
      "outputs": [],
      "source": [
        "X = ecg_signals_reshaped"
      ]
    },
    {
      "cell_type": "code",
      "execution_count": 15,
      "metadata": {
        "id": "aaf5f88d"
      },
      "outputs": [],
      "source": [
        "X_train, X_test, y_train, y_test = train_test_split(X, y, test_size=0.25, random_state=42)"
      ]
    },
    {
      "cell_type": "code",
      "execution_count": 16,
      "metadata": {
        "id": "Q0aKn_7vP5mo",
        "colab": {
          "base_uri": "https://localhost:8080/"
        },
        "outputId": "80d70d8a-3e6d-4abe-9cad-3b38a1b63a2e"
      },
      "outputs": [
        {
          "output_type": "stream",
          "name": "stdout",
          "text": [
            "Shape of X_train: (411, 32000, 15)\n",
            "Shape of X_test: (138, 32000, 15)\n",
            "Shape of y_train: (411,)\n",
            "Shape of y_test: (138,)\n"
          ]
        }
      ],
      "source": [
        "# Print the shape of each variable\n",
        "print(\"Shape of X_train:\", X_train.shape)\n",
        "print(\"Shape of X_test:\", X_test.shape)\n",
        "print(\"Shape of y_train:\", y_train.shape)\n",
        "print(\"Shape of y_test:\", y_test.shape)"
      ]
    },
    {
      "cell_type": "code",
      "source": [
        "from sklearn.utils import class_weight\n",
        "class_weights = class_weight.compute_class_weight('balanced', classes=np.unique(y_train), y=y_train)\n",
        "print(\"Class Weights:\", class_weights)"
      ],
      "metadata": {
        "colab": {
          "base_uri": "https://localhost:8080/"
        },
        "id": "Sei-_GZXWxhj",
        "outputId": "5f0acc60-cb22-4c41-edd9-6830ed333131"
      },
      "execution_count": 17,
      "outputs": [
        {
          "output_type": "stream",
          "name": "stdout",
          "text": [
            "Class Weights: [2.70394737 0.61343284]\n"
          ]
        }
      ]
    },
    {
      "cell_type": "markdown",
      "source": [
        "# LSTM"
      ],
      "metadata": {
        "id": "nevUxSMdP0Gt"
      }
    },
    {
      "cell_type": "code",
      "source": [
        "import numpy as np\n",
        "from tensorflow.keras.models import Sequential\n",
        "from tensorflow.keras.layers import LSTM, Dense, Bidirectional\n",
        "from tensorflow.keras.optimizers import Adam"
      ],
      "metadata": {
        "id": "LRjC4TGeYKzG"
      },
      "execution_count": 18,
      "outputs": []
    },
    {
      "cell_type": "code",
      "source": [
        "class_weights = {0: 2.55232558, 1: 0.62181303}"
      ],
      "metadata": {
        "id": "FSKJgi9gYToE"
      },
      "execution_count": 19,
      "outputs": []
    },
    {
      "cell_type": "code",
      "execution_count": 20,
      "metadata": {
        "id": "67muBAUEYIHK"
      },
      "outputs": [],
      "source": [
        "model = Sequential()\n",
        "model.add(Bidirectional(LSTM(units=128, input_shape=(32000, 15))))\n",
        "model.add(Dense(1,activation='sigmoid'))\n",
        "adam = Adam(learning_rate=0.0001)\n",
        "model.compile(loss='BinaryCrossentropy', optimizer=adam, metrics=['accuracy'])"
      ]
    },
    {
      "cell_type": "code",
      "execution_count": 21,
      "metadata": {
        "colab": {
          "base_uri": "https://localhost:8080/"
        },
        "id": "MeBvwt8XlSrb",
        "outputId": "6e423775-4bb4-4825-b2d3-be014aecc8d4"
      },
      "outputs": [
        {
          "output_type": "stream",
          "name": "stdout",
          "text": [
            "Epoch 1/10\n",
            "12/12 [==============================] - 33s 2s/step - loss: 0.6750 - accuracy: 0.3930 - val_loss: 0.6927 - val_accuracy: 0.4524\n",
            "Epoch 2/10\n",
            "12/12 [==============================] - 22s 2s/step - loss: 0.6732 - accuracy: 0.4607 - val_loss: 0.6898 - val_accuracy: 0.5238\n",
            "Epoch 3/10\n",
            "12/12 [==============================] - 22s 2s/step - loss: 0.6716 - accuracy: 0.5176 - val_loss: 0.6871 - val_accuracy: 0.5476\n",
            "Epoch 4/10\n",
            "12/12 [==============================] - 22s 2s/step - loss: 0.6705 - accuracy: 0.5583 - val_loss: 0.6843 - val_accuracy: 0.5714\n",
            "Epoch 5/10\n",
            "12/12 [==============================] - 22s 2s/step - loss: 0.6687 - accuracy: 0.5935 - val_loss: 0.6810 - val_accuracy: 0.6429\n",
            "Epoch 6/10\n",
            "12/12 [==============================] - 22s 2s/step - loss: 0.6675 - accuracy: 0.6179 - val_loss: 0.6786 - val_accuracy: 0.6190\n",
            "Epoch 7/10\n",
            "12/12 [==============================] - 22s 2s/step - loss: 0.6663 - accuracy: 0.6450 - val_loss: 0.6757 - val_accuracy: 0.6190\n",
            "Epoch 8/10\n",
            "12/12 [==============================] - 22s 2s/step - loss: 0.6650 - accuracy: 0.6477 - val_loss: 0.6735 - val_accuracy: 0.6190\n",
            "Epoch 9/10\n",
            "12/12 [==============================] - 22s 2s/step - loss: 0.6631 - accuracy: 0.6504 - val_loss: 0.6710 - val_accuracy: 0.6190\n",
            "Epoch 10/10\n",
            "12/12 [==============================] - 22s 2s/step - loss: 0.6615 - accuracy: 0.6585 - val_loss: 0.6680 - val_accuracy: 0.5952\n"
          ]
        }
      ],
      "source": [
        "history = model.fit(X_train, y_train, epochs=10, validation_split=0.1, class_weight=class_weights)"
      ]
    },
    {
      "cell_type": "code",
      "execution_count": 22,
      "metadata": {
        "colab": {
          "base_uri": "https://localhost:8080/"
        },
        "id": "4KAjON0_lZFc",
        "outputId": "309c4782-305c-437f-ee35-b4ed91d30612"
      },
      "outputs": [
        {
          "output_type": "stream",
          "name": "stdout",
          "text": [
            "5/5 [==============================] - 5s 780ms/step\n"
          ]
        }
      ],
      "source": [
        "y_pred=model.predict(X_test)"
      ]
    },
    {
      "cell_type": "code",
      "execution_count": 23,
      "metadata": {
        "id": "vXIP4dnDxRBl"
      },
      "outputs": [],
      "source": [
        "y_pred=np.round(y_pred,0)"
      ]
    },
    {
      "cell_type": "code",
      "execution_count": 24,
      "metadata": {
        "id": "tRmzQzVolg_5",
        "colab": {
          "base_uri": "https://localhost:8080/"
        },
        "outputId": "88c14acc-241d-4158-dbc5-c89cccb64ff3"
      },
      "outputs": [
        {
          "output_type": "stream",
          "name": "stdout",
          "text": [
            "Confusion Matrix \n",
            " [[ 7 24]\n",
            " [26 81]]\n"
          ]
        }
      ],
      "source": [
        "from sklearn.metrics import confusion_matrix\n",
        "cm= confusion_matrix(y_test,y_pred)\n",
        "print(\"Confusion Matrix \\n\",cm)"
      ]
    },
    {
      "cell_type": "code",
      "execution_count": 25,
      "metadata": {
        "colab": {
          "base_uri": "https://localhost:8080/"
        },
        "id": "z00f6NBkljUS",
        "outputId": "4dd39e25-8b00-4712-97b8-1832868da8f6"
      },
      "outputs": [
        {
          "output_type": "stream",
          "name": "stdout",
          "text": [
            "5/5 [==============================] - 4s 778ms/step - loss: 0.6669 - accuracy: 0.6377\n"
          ]
        },
        {
          "output_type": "execute_result",
          "data": {
            "text/plain": [
              "[0.666945219039917, 0.6376811861991882]"
            ]
          },
          "metadata": {},
          "execution_count": 25
        }
      ],
      "source": [
        "model.evaluate(X_test,y_test)\n"
      ]
    },
    {
      "cell_type": "code",
      "source": [
        "# Get the accuracy and loss values from the history object\n",
        "train_accuracy = history.history['accuracy']\n",
        "val_accuracy = history.history['val_accuracy']\n",
        "train_loss = history.history['loss']\n",
        "val_loss = history.history['val_loss']"
      ],
      "metadata": {
        "id": "C17SA7VPhhDV"
      },
      "execution_count": 26,
      "outputs": []
    },
    {
      "cell_type": "code",
      "source": [
        "# Create the plots\n",
        "plt.figure(figsize=(12, 4))\n",
        "plt.subplot(1, 2, 1)\n",
        "plt.plot(range(1, 11), train_accuracy, label='Training Accuracy')\n",
        "plt.plot(range(1, 11), val_accuracy, label='Validation Accuracy')\n",
        "plt.xlabel('Epochs')\n",
        "plt.ylabel('Accuracy')\n",
        "plt.title('Training and Validation Accuracy')\n",
        "plt.legend()\n",
        "\n",
        "plt.subplot(1, 2, 2)\n",
        "plt.plot(range(1, 11), train_loss, label='Training Loss')\n",
        "plt.plot(range(1, 11), val_loss, label='Validation Loss')\n",
        "plt.xlabel('Epochs')\n",
        "plt.ylabel('Loss')\n",
        "plt.title('Training and Validation Loss')\n",
        "plt.legend()\n",
        "\n",
        "plt.tight_layout()\n",
        "plt.show()"
      ],
      "metadata": {
        "id": "F7TkzNzKiZxX",
        "colab": {
          "base_uri": "https://localhost:8080/",
          "height": 337
        },
        "outputId": "9db25029-4be1-4e15-c6fd-e55c4c14f629"
      },
      "execution_count": 27,
      "outputs": [
        {
          "output_type": "display_data",
          "data": {
            "text/plain": [
              "<Figure size 1200x400 with 2 Axes>"
            ],
            "image/png": "[encoded data removed]"
          },
          "metadata": {}
        }
      ]
    },
    {
      "cell_type": "code",
      "source": [
        "from sklearn.ensemble import RandomForestClassifier\n",
        "from sklearn.metrics import accuracy_score, precision_score, recall_score, f1_score,classification_report"
      ],
      "metadata": {
        "id": "whLfdWTN-Fyv"
      },
      "execution_count": 28,
      "outputs": []
    },
    {
      "cell_type": "code",
      "source": [
        "lstm_accuracy = accuracy_score(y_test, y_pred)\n",
        "lstm_precision = precision_score(y_test, y_pred)\n",
        "lstm_recall = recall_score(y_test, y_pred)\n",
        "lstm_f1 = f1_score(y_test, y_pred)"
      ],
      "metadata": {
        "id": "VlBejXiLLstX"
      },
      "execution_count": 29,
      "outputs": []
    },
    {
      "cell_type": "code",
      "source": [
        "print(\"LSTM model - Accuracy:\", lstm_accuracy, \" Precision:\", lstm_precision,\n",
        "      \" Recall:\", lstm_recall, \" F1-Score:\", lstm_f1)"
      ],
      "metadata": {
        "colab": {
          "base_uri": "https://localhost:8080/"
        },
        "id": "2Ss83OqeLsz5",
        "outputId": "6c6c3c7a-13a4-40fc-b7a8-20d0a786c018"
      },
      "execution_count": 30,
      "outputs": [
        {
          "output_type": "stream",
          "name": "stdout",
          "text": [
            "LSTM model - Accuracy: 0.6376811594202898  Precision: 0.7714285714285715  Recall: 0.7570093457943925  F1-Score: 0.7641509433962264\n"
          ]
        }
      ]
    },
    {
      "cell_type": "code",
      "source": [],
      "metadata": {
        "id": "HrCIUGuoMzVw"
      },
      "execution_count": null,
      "outputs": []
    },
    {
      "cell_type": "code",
      "source": [
        "# Take a subset of 300 samples for training\n",
        "X_train_subset = X_train[:300]\n",
        "y_train_subset = y_train[:300]\n",
        "\n",
        "# Take a subset of 100 samples for testing\n",
        "X_test_subset = X_test[:100]\n",
        "y_test_subset = y_test[:100]\n",
        "\n",
        "# Print the shape of each subset\n",
        "print(\"Shape of X_train_subset:\", X_train_subset.shape)\n",
        "print(\"Shape of X_test_subset:\", X_test_subset.shape)\n",
        "print(\"Shape of y_train_subset:\", y_train_subset.shape)\n",
        "print(\"Shape of y_test_subset:\", y_test_subset.shape)"
      ],
      "metadata": {
        "colab": {
          "base_uri": "https://localhost:8080/"
        },
        "id": "bL5Q6CV9Pbxl",
        "outputId": "7b7f92c3-8823-4aa0-fb44-b1bf9a5a35fa"
      },
      "execution_count": 31,
      "outputs": [
        {
          "output_type": "stream",
          "name": "stdout",
          "text": [
            "Shape of X_train_subset: (300, 32000, 15)\n",
            "Shape of X_test_subset: (100, 32000, 15)\n",
            "Shape of y_train_subset: (300,)\n",
            "Shape of y_test_subset: (100,)\n"
          ]
        }
      ]
    },
    {
      "cell_type": "code",
      "source": [
        "X_train_flatten = X_train_subset.reshape((X_train_subset.shape[0], -1))\n",
        "X_test_flatten = X_test_subset.reshape((X_test_subset.shape[0], -1))\n"
      ],
      "metadata": {
        "id": "PwjITKkbQgLE"
      },
      "execution_count": 32,
      "outputs": []
    },
    {
      "cell_type": "markdown",
      "source": [
        "# CNN"
      ],
      "metadata": {
        "id": "WEwQLs0iMwqE"
      }
    },
    {
      "cell_type": "code",
      "source": [
        "from tensorflow.keras.models import Sequential\n",
        "from tensorflow.keras.layers import Conv1D, MaxPooling1D, Flatten, Dense, Dropout\n",
        "from tensorflow.keras.optimizers import Adam\n",
        "\n",
        "# Create a new model\n",
        "mod_network = Sequential()\n",
        "mod_network.add(Conv1D(filters=64, kernel_size=3, activation='relu', input_shape=(32000, 15)))\n",
        "mod_network.add(MaxPooling1D(pool_size=2))\n",
        "mod_network.add(Flatten())\n",
        "mod_network.add(Dense(128, activation='relu'))\n",
        "mod_network.add(Dropout(0.5))\n",
        "mod_network.add(Dense(1, activation='sigmoid'))\n",
        "\n",
        "# Compile the model\n",
        "adam = Adam(learning_rate=0.0001)\n",
        "mod_network.compile(loss='binary_crossentropy', optimizer=adam, metrics=['accuracy'])"
      ],
      "metadata": {
        "id": "q8CiB-0lMzLO"
      },
      "execution_count": 33,
      "outputs": []
    },
    {
      "cell_type": "code",
      "source": [
        "# Train the model\n",
        "cnn_history = mod_network.fit(X_train_subset, y_train_subset, epochs=10, validation_split=0.1,\n",
        "                            class_weight=class_weights)"
      ],
      "metadata": {
        "colab": {
          "base_uri": "https://localhost:8080/"
        },
        "id": "EsiW8nEfMzN0",
        "outputId": "04c7c8b1-1408-435a-d927-2ffbba8d94d6"
      },
      "execution_count": 34,
      "outputs": [
        {
          "output_type": "stream",
          "name": "stdout",
          "text": [
            "Epoch 1/10\n",
            "9/9 [==============================] - 7s 96ms/step - loss: 1.1241 - accuracy: 0.5630 - val_loss: 0.6458 - val_accuracy: 0.6000\n",
            "Epoch 2/10\n",
            "9/9 [==============================] - 0s 49ms/step - loss: 0.4431 - accuracy: 0.8370 - val_loss: 0.8007 - val_accuracy: 0.8000\n",
            "Epoch 3/10\n",
            "9/9 [==============================] - 0s 50ms/step - loss: 0.2176 - accuracy: 0.9037 - val_loss: 0.8354 - val_accuracy: 0.7333\n",
            "Epoch 4/10\n",
            "9/9 [==============================] - 0s 49ms/step - loss: 0.1940 - accuracy: 0.9778 - val_loss: 0.8624 - val_accuracy: 0.6667\n",
            "Epoch 5/10\n",
            "9/9 [==============================] - 0s 49ms/step - loss: 0.1144 - accuracy: 0.9444 - val_loss: 0.9110 - val_accuracy: 0.6667\n",
            "Epoch 6/10\n",
            "9/9 [==============================] - 0s 49ms/step - loss: 0.0755 - accuracy: 0.9963 - val_loss: 1.2263 - val_accuracy: 0.8333\n",
            "Epoch 7/10\n",
            "9/9 [==============================] - 0s 49ms/step - loss: 0.0493 - accuracy: 0.9963 - val_loss: 0.9646 - val_accuracy: 0.6667\n",
            "Epoch 8/10\n",
            "9/9 [==============================] - 0s 49ms/step - loss: 0.0355 - accuracy: 0.9963 - val_loss: 1.3671 - val_accuracy: 0.8333\n",
            "Epoch 9/10\n",
            "9/9 [==============================] - 0s 48ms/step - loss: 0.0332 - accuracy: 1.0000 - val_loss: 1.1387 - val_accuracy: 0.7000\n",
            "Epoch 10/10\n",
            "9/9 [==============================] - 0s 48ms/step - loss: 0.0252 - accuracy: 0.9926 - val_loss: 1.3657 - val_accuracy: 0.7667\n"
          ]
        }
      ]
    },
    {
      "cell_type": "code",
      "source": [
        "cnn_train_accuracy = cnn_history.history['accuracy']\n",
        "cnn_val_accuracy = cnn_history.history['val_accuracy']\n",
        "cnn_train_loss = cnn_history.history['loss']\n",
        "cnn_val_loss = cnn_history.history['val_loss']"
      ],
      "metadata": {
        "id": "7bSBJ8_-IKAn"
      },
      "execution_count": 36,
      "outputs": []
    },
    {
      "cell_type": "code",
      "source": [
        "# Create the plots for CNN\n",
        "plt.figure(figsize=(12, 4))\n",
        "plt.subplot(1, 2, 1)\n",
        "plt.plot(range(1, 11), cnn_train_accuracy, label='Training Accuracy')\n",
        "plt.plot(range(1, 11), cnn_val_accuracy, label='Validation Accuracy')\n",
        "plt.xlabel('Epochs')\n",
        "plt.ylabel('Accuracy')\n",
        "plt.title('CNN Training and Validation Accuracy')\n",
        "plt.legend()\n",
        "\n",
        "plt.subplot(1, 2, 2)\n",
        "plt.plot(range(1, 11), cnn_train_loss, label='Training Loss')\n",
        "plt.plot(range(1, 11), cnn_val_loss, label='Validation Loss')\n",
        "plt.xlabel('Epochs')\n",
        "plt.ylabel('Loss')\n",
        "plt.title('CNN Training and Validation Loss')\n",
        "plt.legend()\n",
        "\n",
        "plt.tight_layout()\n",
        "plt.show()"
      ],
      "metadata": {
        "colab": {
          "base_uri": "https://localhost:8080/",
          "height": 337
        },
        "id": "WpmaLkmJNJ67",
        "outputId": "85639a92-0ab5-4c98-fc31-1214cfec00b7"
      },
      "execution_count": 37,
      "outputs": [
        {
          "output_type": "display_data",
          "data": {
            "text/plain": [
              "<Figure size 1200x400 with 2 Axes>"
            ],
            "image/png": "[encoded data removed]"
          },
          "metadata": {}
        }
      ]
    },
    {
      "cell_type": "code",
      "source": [
        "# Make predictions using CNN\n",
        "cnn_y_pred = mod_network.predict(X_test_subset)\n",
        "cnn_y_pred = np.round(cnn_y_pred, 0)\n",
        "\n",
        "# Evaluate CNN\n",
        "cnn_accuracy = accuracy_score(y_test_subset, cnn_y_pred)\n",
        "cnn_precision = precision_score(y_test_subset, cnn_y_pred)\n",
        "cnn_recall = recall_score(y_test_subset, cnn_y_pred)\n",
        "cnn_f1 = f1_score(y_test_subset, cnn_y_pred)\n",
        "\n",
        "print(\"CNN - Accuracy:\", cnn_accuracy, \" Precision:\", cnn_precision,\n",
        "      \" Recall:\", cnn_recall, \" F1-Score:\", cnn_f1)"
      ],
      "metadata": {
        "colab": {
          "base_uri": "https://localhost:8080/"
        },
        "id": "vE10F9XjNNVq",
        "outputId": "d877a2e7-bd96-49cd-9f6b-7dd4fdb1cc95"
      },
      "execution_count": 38,
      "outputs": [
        {
          "output_type": "stream",
          "name": "stdout",
          "text": [
            "4/4 [==============================] - 0s 25ms/step\n",
            "CNN - Accuracy: 0.81  Precision: 0.8279569892473119  Recall: 0.9625  F1-Score: 0.8901734104046244\n"
          ]
        }
      ]
    },
    {
      "cell_type": "code",
      "source": [
        "cm= confusion_matrix(y_test_subset,cnn_y_pred)\n",
        "print(\"Confusion Matrix \\n\",cm)"
      ],
      "metadata": {
        "colab": {
          "base_uri": "https://localhost:8080/"
        },
        "id": "RPzjKbLdNZRh",
        "outputId": "69e7b4a3-64ce-486d-beb7-bd905c837bf0"
      },
      "execution_count": 39,
      "outputs": [
        {
          "output_type": "stream",
          "name": "stdout",
          "text": [
            "Confusion Matrix \n",
            " [[ 4 16]\n",
            " [ 3 77]]\n"
          ]
        }
      ]
    },
    {
      "cell_type": "code",
      "source": [],
      "metadata": {
        "id": "McIuZN8UNktc"
      },
      "execution_count": null,
      "outputs": []
    },
    {
      "cell_type": "markdown",
      "source": [
        "# Autoencoder with ML"
      ],
      "metadata": {
        "id": "uh1SyPJUOa4b"
      }
    },
    {
      "cell_type": "code",
      "source": [
        "from tensorflow.keras.models import Sequential\n",
        "from tensorflow.keras.layers import Dense\n",
        "from sklearn.ensemble import RandomForestClassifier\n",
        "from sklearn.metrics import accuracy_score, precision_score, recall_score, f1_score"
      ],
      "metadata": {
        "id": "jaCqs5djOdtj"
      },
      "execution_count": 40,
      "outputs": []
    },
    {
      "cell_type": "code",
      "source": [
        "auto_mod = Sequential()\n",
        "auto_mod.add(Dense(128, activation='relu', input_shape=(32000, 15)))\n",
        "auto_mod.add(Dense(64, activation='relu'))\n",
        "auto_mod.add(Dense(32, activation='relu'))\n",
        "auto_mod.add(Dense(64, activation='relu'))\n",
        "auto_mod.add(Dense(128, activation='relu'))\n",
        "auto_mod.add(Dense(15, activation='sigmoid'))"
      ],
      "metadata": {
        "id": "QRwH15mpOeT1"
      },
      "execution_count": 41,
      "outputs": []
    },
    {
      "cell_type": "code",
      "source": [
        "auto_mod.compile(optimizer='adam', loss='mean_squared_error')\n",
        "\n",
        "# Train the autoencoder using X_train data\n",
        "history=auto_mod.fit(X_train_subset, X_train_subset, epochs=10, batch_size=32)"
      ],
      "metadata": {
        "colab": {
          "base_uri": "https://localhost:8080/"
        },
        "id": "1xHsIPyOOiC9",
        "outputId": "8cb8fcf5-0bc3-4f8a-b611-d32044747148"
      },
      "execution_count": 42,
      "outputs": [
        {
          "output_type": "stream",
          "name": "stdout",
          "text": [
            "Epoch 1/10\n",
            "10/10 [==============================] - 3s 66ms/step - loss: 0.2747\n",
            "Epoch 2/10\n",
            "10/10 [==============================] - 1s 64ms/step - loss: 0.2207\n",
            "Epoch 3/10\n",
            "10/10 [==============================] - 1s 64ms/step - loss: 0.1048\n",
            "Epoch 4/10\n",
            "10/10 [==============================] - 1s 68ms/step - loss: 0.0388\n",
            "Epoch 5/10\n",
            "10/10 [==============================] - 1s 66ms/step - loss: 0.0352\n",
            "Epoch 6/10\n",
            "10/10 [==============================] - 1s 60ms/step - loss: 0.0352\n",
            "Epoch 7/10\n",
            "10/10 [==============================] - 1s 62ms/step - loss: 0.0352\n",
            "Epoch 8/10\n",
            "10/10 [==============================] - 1s 62ms/step - loss: 0.0352\n",
            "Epoch 9/10\n",
            "10/10 [==============================] - 1s 62ms/step - loss: 0.0352\n",
            "Epoch 10/10\n",
            "10/10 [==============================] - 1s 61ms/step - loss: 0.0352\n"
          ]
        }
      ]
    },
    {
      "cell_type": "code",
      "source": [
        "autoencoder_train_loss = history.history['loss']\n",
        "\n",
        "plt.figure(figsize=(8, 6))\n",
        "plt.plot(range(1, 11), autoencoder_train_loss, label='Training Loss')\n",
        "plt.xlabel('Epochs')\n",
        "plt.ylabel('Loss')\n",
        "plt.title('Autoencoder Training Loss')\n",
        "plt.legend()\n",
        "plt.show()\n"
      ],
      "metadata": {
        "colab": {
          "base_uri": "https://localhost:8080/",
          "height": 564
        },
        "id": "5w-hnLTWOnwV",
        "outputId": "9554eb5f-ff1c-49a0-cae2-c619750e57d5"
      },
      "execution_count": 43,
      "outputs": [
        {
          "output_type": "display_data",
          "data": {
            "text/plain": [
              "<Figure size 800x600 with 1 Axes>"
            ],
            "image/png": "[encoded data removed]"
          },
          "metadata": {}
        }
      ]
    },
    {
      "cell_type": "code",
      "source": [
        "# Extract features using the autoencoder\n",
        "X_train_features = auto_mod.predict(X_train_subset)\n",
        "X_test_features = auto_mod.predict(X_test_subset)"
      ],
      "metadata": {
        "colab": {
          "base_uri": "https://localhost:8080/"
        },
        "id": "tOCSGwcgO8Mu",
        "outputId": "890337e9-7407-4856-ccb7-4991bbb3a81b"
      },
      "execution_count": 44,
      "outputs": [
        {
          "output_type": "stream",
          "name": "stdout",
          "text": [
            "10/10 [==============================] - 1s 33ms/step\n",
            "4/4 [==============================] - 0s 27ms/step\n"
          ]
        }
      ]
    },
    {
      "cell_type": "code",
      "source": [
        "X_train_features_reshaped = X_train_features.reshape(X_train_features.shape[0], -1)\n"
      ],
      "metadata": {
        "id": "LoXQVv_MPHR-"
      },
      "execution_count": 45,
      "outputs": []
    },
    {
      "cell_type": "code",
      "source": [
        "CLF = RandomForestClassifier(random_state=42, class_weight=class_weights)\n",
        "CLF.fit(X_train_features_reshaped, y_train_subset)"
      ],
      "metadata": {
        "colab": {
          "base_uri": "https://localhost:8080/",
          "height": 91
        },
        "id": "9R4wt1SPPvdo",
        "outputId": "b3d77b2e-0e26-40a3-86e4-89b450e39582"
      },
      "execution_count": 46,
      "outputs": [
        {
          "output_type": "execute_result",
          "data": {
            "text/plain": [
              "RandomForestClassifier(class_weight={0: 2.55232558, 1: 0.62181303},\n",
              "                       random_state=42)"
            ],
            "text/html": [
              "<style>#sk-container-id-1 {color: black;background-color: white;}#sk-container-id-1 pre{padding: 0;}#sk-container-id-1 div.sk-toggleable {background-color: white;}#sk-container-id-1 label.sk-toggleable__label {cursor: pointer;display: block;width: 100%;margin-bottom: 0;padding: 0.3em;box-sizing: border-box;text-align: center;}#sk-container-id-1 label.sk-toggleable__label-arrow:before {content: \"▸\";float: left;margin-right: 0.25em;color: #696969;}#sk-container-id-1 label.sk-toggleable__label-arrow:hover:before {color: black;}#sk-container-id-1 div.sk-estimator:hover label.sk-toggleable__label-arrow:before {color: black;}#sk-container-id-1 div.sk-toggleable__content {max-height: 0;max-width: 0;overflow: hidden;text-align: left;background-color: #f0f8ff;}#sk-container-id-1 div.sk-toggleable__content pre {margin: 0.2em;color: black;border-radius: 0.25em;background-color: #f0f8ff;}#sk-container-id-1 input.sk-toggleable__control:checked~div.sk-toggleable__content {max-height: 200px;max-width: 100%;overflow: auto;}#sk-container-id-1 input.sk-toggleable__control:checked~label.sk-toggleable__label-arrow:before {content: \"▾\";}#sk-container-id-1 div.sk-estimator input.sk-toggleable__control:checked~label.sk-toggleable__label {background-color: #d4ebff;}#sk-container-id-1 div.sk-label input.sk-toggleable__control:checked~label.sk-toggleable__label {background-color: #d4ebff;}#sk-container-id-1 input.sk-hidden--visually {border: 0;clip: rect(1px 1px 1px 1px);clip: rect(1px, 1px, 1px, 1px);height: 1px;margin: -1px;overflow: hidden;padding: 0;position: absolute;width: 1px;}#sk-container-id-1 div.sk-estimator {font-family: monospace;background-color: #f0f8ff;border: 1px dotted black;border-radius: 0.25em;box-sizing: border-box;margin-bottom: 0.5em;}#sk-container-id-1 div.sk-estimator:hover {background-color: #d4ebff;}#sk-container-id-1 div.sk-parallel-item::after {content: \"\";width: 100%;border-bottom: 1px solid gray;flex-grow: 1;}#sk-container-id-1 div.sk-label:hover label.sk-toggleable__label {background-color: #d4ebff;}#sk-container-id-1 div.sk-serial::before {content: \"\";position: absolute;border-left: 1px solid gray;box-sizing: border-box;top: 0;bottom: 0;left: 50%;z-index: 0;}#sk-container-id-1 div.sk-serial {display: flex;flex-direction: column;align-items: center;background-color: white;padding-right: 0.2em;padding-left: 0.2em;position: relative;}#sk-container-id-1 div.sk-item {position: relative;z-index: 1;}#sk-container-id-1 div.sk-parallel {display: flex;align-items: stretch;justify-content: center;background-color: white;position: relative;}#sk-container-id-1 div.sk-item::before, #sk-container-id-1 div.sk-parallel-item::before {content: \"\";position: absolute;border-left: 1px solid gray;box-sizing: border-box;top: 0;bottom: 0;left: 50%;z-index: -1;}#sk-container-id-1 div.sk-parallel-item {display: flex;flex-direction: column;z-index: 1;position: relative;background-color: white;}#sk-container-id-1 div.sk-parallel-item:first-child::after {align-self: flex-end;width: 50%;}#sk-container-id-1 div.sk-parallel-item:last-child::after {align-self: flex-start;width: 50%;}#sk-container-id-1 div.sk-parallel-item:only-child::after {width: 0;}#sk-container-id-1 div.sk-dashed-wrapped {border: 1px dashed gray;margin: 0 0.4em 0.5em 0.4em;box-sizing: border-box;padding-bottom: 0.4em;background-color: white;}#sk-container-id-1 div.sk-label label {font-family: monospace;font-weight: bold;display: inline-block;line-height: 1.2em;}#sk-container-id-1 div.sk-label-container {text-align: center;}#sk-container-id-1 div.sk-container {/* jupyter's `normalize.less` sets `[hidden] { display: none; }` but bootstrap.min.css set `[hidden] { display: none !important; }` so we also need the `!important` here to be able to override the default hidden behavior on the sphinx rendered scikit-learn.org. See: https://github.com/scikit-learn/scikit-learn/issues/21755 */display: inline-block !important;position: relative;}#sk-container-id-1 div.sk-text-repr-fallback {display: none;}</style><div id=\"sk-container-id-1\" class=\"sk-top-container\"><div class=\"sk-text-repr-fallback\"><pre>RandomForestClassifier(class_weight={0: 2.55232558, 1: 0.62181303},\n",
              "                       random_state=42)</pre><b>In a Jupyter environment, please rerun this cell to show the HTML representation or trust the notebook. <br />On GitHub, the HTML representation is unable to render, please try loading this page with nbviewer.org.</b></div><div class=\"sk-container\" hidden><div class=\"sk-item\"><div class=\"sk-estimator sk-toggleable\"><input class=\"sk-toggleable__control sk-hidden--visually\" id=\"sk-estimator-id-1\" type=\"checkbox\" checked><label for=\"sk-estimator-id-1\" class=\"sk-toggleable__label sk-toggleable__label-arrow\">RandomForestClassifier</label><div class=\"sk-toggleable__content\"><pre>RandomForestClassifier(class_weight={0: 2.55232558, 1: 0.62181303},\n",
              "                       random_state=42)</pre></div></div></div></div></div>"
            ]
          },
          "metadata": {},
          "execution_count": 46
        }
      ]
    },
    {
      "cell_type": "code",
      "source": [
        "X_test_features_reshaped = X_test_features.reshape(X_test_features.shape[0], -1)"
      ],
      "metadata": {
        "id": "n1iOzKnLP2ke"
      },
      "execution_count": 47,
      "outputs": []
    },
    {
      "cell_type": "code",
      "source": [
        "rf_predictions = CLF.predict(X_test_features_reshaped)"
      ],
      "metadata": {
        "id": "kUePAIfDP92f"
      },
      "execution_count": 48,
      "outputs": []
    },
    {
      "cell_type": "code",
      "source": [
        "# Evaluate the classifiers\n",
        "rf_accuracy = accuracy_score(y_test_subset, rf_predictions)\n",
        "rf_precision = precision_score(y_test_subset, rf_predictions)\n",
        "rf_recall = recall_score(y_test_subset, rf_predictions)\n",
        "rf_f1 = f1_score(y_test_subset, rf_predictions)"
      ],
      "metadata": {
        "id": "xRtSbg8PP92m"
      },
      "execution_count": 49,
      "outputs": []
    },
    {
      "cell_type": "code",
      "source": [
        "print(\"Random Forest - Accuracy:\", rf_accuracy, \" Precision:\",\n",
        "      rf_precision, \" Recall:\", rf_recall, \" F1-Score:\", rf_f1)\n"
      ],
      "metadata": {
        "colab": {
          "base_uri": "https://localhost:8080/"
        },
        "outputId": "cbf508fb-41a7-4bd5-b421-12f89c4fb22e",
        "id": "VcuPGI1tP92m"
      },
      "execution_count": 50,
      "outputs": [
        {
          "output_type": "stream",
          "name": "stdout",
          "text": [
            "Random Forest - Accuracy: 0.82  Precision: 0.8163265306122449  Recall: 1.0  F1-Score: 0.898876404494382\n"
          ]
        }
      ]
    },
    {
      "cell_type": "code",
      "source": [
        "cm= confusion_matrix(y_test_subset,rf_predictions)\n",
        "print(\"Confusion Matrix \\n\",cm)"
      ],
      "metadata": {
        "colab": {
          "base_uri": "https://localhost:8080/"
        },
        "outputId": "db234a7e-06c6-4167-ca48-783af73a2861",
        "id": "BI_Sob_VP92m"
      },
      "execution_count": 51,
      "outputs": [
        {
          "output_type": "stream",
          "name": "stdout",
          "text": [
            "Confusion Matrix \n",
            " [[ 2 18]\n",
            " [ 0 80]]\n"
          ]
        }
      ]
    },
    {
      "cell_type": "markdown",
      "source": [
        "# Tunning the random forest"
      ],
      "metadata": {
        "id": "AS6POsdsxX2Y"
      }
    },
    {
      "cell_type": "code",
      "source": [
        "from sklearn.model_selection import GridSearchCV"
      ],
      "metadata": {
        "id": "uJggT-fYIeCf"
      },
      "execution_count": 53,
      "outputs": []
    },
    {
      "cell_type": "code",
      "source": [
        "# Define the hyperparameters to tune\n",
        "hparams = {\n",
        "    'n_estimators': [100, 200, 300],\n",
        "    'max_depth': [None, 10, 20],\n",
        "    'min_samples_split': [2, 5, 10],\n",
        "    'min_samples_leaf': [1, 2, 4],\n",
        "    'class_weight': [None, 'balanced']\n",
        "}\n",
        "\n",
        "# Create the Random Forest classifier\n",
        "CLF = RandomForestClassifier(random_state=42)\n",
        "\n",
        "# Perform grid search with cross-validation\n",
        "grid_search = GridSearchCV(CLF, hparams, cv=5, scoring='accuracy', n_jobs=-1)\n",
        "grid_search.fit(X_train_features_reshaped, y_train_subset)\n",
        "\n",
        "\n"
      ],
      "metadata": {
        "colab": {
          "base_uri": "https://localhost:8080/",
          "height": 116
        },
        "id": "x_-DYUJ8xdNc",
        "outputId": "5b6e50df-b1c4-4ec8-e4e9-61b5275d426c"
      },
      "execution_count": 54,
      "outputs": [
        {
          "output_type": "execute_result",
          "data": {
            "text/plain": [
              "GridSearchCV(cv=5, estimator=RandomForestClassifier(random_state=42), n_jobs=-1,\n",
              "             param_grid={'class_weight': [None, 'balanced'],\n",
              "                         'max_depth': [None, 10, 20],\n",
              "                         'min_samples_leaf': [1, 2, 4],\n",
              "                         'min_samples_split': [2, 5, 10],\n",
              "                         'n_estimators': [100, 200, 300]},\n",
              "             scoring='accuracy')"
            ],
            "text/html": [
              "<style>#sk-container-id-2 {color: black;background-color: white;}#sk-container-id-2 pre{padding: 0;}#sk-container-id-2 div.sk-toggleable {background-color: white;}#sk-container-id-2 label.sk-toggleable__label {cursor: pointer;display: block;width: 100%;margin-bottom: 0;padding: 0.3em;box-sizing: border-box;text-align: center;}#sk-container-id-2 label.sk-toggleable__label-arrow:before {content: \"▸\";float: left;margin-right: 0.25em;color: #696969;}#sk-container-id-2 label.sk-toggleable__label-arrow:hover:before {color: black;}#sk-container-id-2 div.sk-estimator:hover label.sk-toggleable__label-arrow:before {color: black;}#sk-container-id-2 div.sk-toggleable__content {max-height: 0;max-width: 0;overflow: hidden;text-align: left;background-color: #f0f8ff;}#sk-container-id-2 div.sk-toggleable__content pre {margin: 0.2em;color: black;border-radius: 0.25em;background-color: #f0f8ff;}#sk-container-id-2 input.sk-toggleable__control:checked~div.sk-toggleable__content {max-height: 200px;max-width: 100%;overflow: auto;}#sk-container-id-2 input.sk-toggleable__control:checked~label.sk-toggleable__label-arrow:before {content: \"▾\";}#sk-container-id-2 div.sk-estimator input.sk-toggleable__control:checked~label.sk-toggleable__label {background-color: #d4ebff;}#sk-container-id-2 div.sk-label input.sk-toggleable__control:checked~label.sk-toggleable__label {background-color: #d4ebff;}#sk-container-id-2 input.sk-hidden--visually {border: 0;clip: rect(1px 1px 1px 1px);clip: rect(1px, 1px, 1px, 1px);height: 1px;margin: -1px;overflow: hidden;padding: 0;position: absolute;width: 1px;}#sk-container-id-2 div.sk-estimator {font-family: monospace;background-color: #f0f8ff;border: 1px dotted black;border-radius: 0.25em;box-sizing: border-box;margin-bottom: 0.5em;}#sk-container-id-2 div.sk-estimator:hover {background-color: #d4ebff;}#sk-container-id-2 div.sk-parallel-item::after {content: \"\";width: 100%;border-bottom: 1px solid gray;flex-grow: 1;}#sk-container-id-2 div.sk-label:hover label.sk-toggleable__label {background-color: #d4ebff;}#sk-container-id-2 div.sk-serial::before {content: \"\";position: absolute;border-left: 1px solid gray;box-sizing: border-box;top: 0;bottom: 0;left: 50%;z-index: 0;}#sk-container-id-2 div.sk-serial {display: flex;flex-direction: column;align-items: center;background-color: white;padding-right: 0.2em;padding-left: 0.2em;position: relative;}#sk-container-id-2 div.sk-item {position: relative;z-index: 1;}#sk-container-id-2 div.sk-parallel {display: flex;align-items: stretch;justify-content: center;background-color: white;position: relative;}#sk-container-id-2 div.sk-item::before, #sk-container-id-2 div.sk-parallel-item::before {content: \"\";position: absolute;border-left: 1px solid gray;box-sizing: border-box;top: 0;bottom: 0;left: 50%;z-index: -1;}#sk-container-id-2 div.sk-parallel-item {display: flex;flex-direction: column;z-index: 1;position: relative;background-color: white;}#sk-container-id-2 div.sk-parallel-item:first-child::after {align-self: flex-end;width: 50%;}#sk-container-id-2 div.sk-parallel-item:last-child::after {align-self: flex-start;width: 50%;}#sk-container-id-2 div.sk-parallel-item:only-child::after {width: 0;}#sk-container-id-2 div.sk-dashed-wrapped {border: 1px dashed gray;margin: 0 0.4em 0.5em 0.4em;box-sizing: border-box;padding-bottom: 0.4em;background-color: white;}#sk-container-id-2 div.sk-label label {font-family: monospace;font-weight: bold;display: inline-block;line-height: 1.2em;}#sk-container-id-2 div.sk-label-container {text-align: center;}#sk-container-id-2 div.sk-container {/* jupyter's `normalize.less` sets `[hidden] { display: none; }` but bootstrap.min.css set `[hidden] { display: none !important; }` so we also need the `!important` here to be able to override the default hidden behavior on the sphinx rendered scikit-learn.org. See: https://github.com/scikit-learn/scikit-learn/issues/21755 */display: inline-block !important;position: relative;}#sk-container-id-2 div.sk-text-repr-fallback {display: none;}</style><div id=\"sk-container-id-2\" class=\"sk-top-container\"><div class=\"sk-text-repr-fallback\"><pre>GridSearchCV(cv=5, estimator=RandomForestClassifier(random_state=42), n_jobs=-1,\n",
              "             param_grid={&#x27;class_weight&#x27;: [None, &#x27;balanced&#x27;],\n",
              "                         &#x27;max_depth&#x27;: [None, 10, 20],\n",
              "                         &#x27;min_samples_leaf&#x27;: [1, 2, 4],\n",
              "                         &#x27;min_samples_split&#x27;: [2, 5, 10],\n",
              "                         &#x27;n_estimators&#x27;: [100, 200, 300]},\n",
              "             scoring=&#x27;accuracy&#x27;)</pre><b>In a Jupyter environment, please rerun this cell to show the HTML representation or trust the notebook. <br />On GitHub, the HTML representation is unable to render, please try loading this page with nbviewer.org.</b></div><div class=\"sk-container\" hidden><div class=\"sk-item sk-dashed-wrapped\"><div class=\"sk-label-container\"><div class=\"sk-label sk-toggleable\"><input class=\"sk-toggleable__control sk-hidden--visually\" id=\"sk-estimator-id-2\" type=\"checkbox\" ><label for=\"sk-estimator-id-2\" class=\"sk-toggleable__label sk-toggleable__label-arrow\">GridSearchCV</label><div class=\"sk-toggleable__content\"><pre>GridSearchCV(cv=5, estimator=RandomForestClassifier(random_state=42), n_jobs=-1,\n",
              "             param_grid={&#x27;class_weight&#x27;: [None, &#x27;balanced&#x27;],\n",
              "                         &#x27;max_depth&#x27;: [None, 10, 20],\n",
              "                         &#x27;min_samples_leaf&#x27;: [1, 2, 4],\n",
              "                         &#x27;min_samples_split&#x27;: [2, 5, 10],\n",
              "                         &#x27;n_estimators&#x27;: [100, 200, 300]},\n",
              "             scoring=&#x27;accuracy&#x27;)</pre></div></div></div><div class=\"sk-parallel\"><div class=\"sk-parallel-item\"><div class=\"sk-item\"><div class=\"sk-label-container\"><div class=\"sk-label sk-toggleable\"><input class=\"sk-toggleable__control sk-hidden--visually\" id=\"sk-estimator-id-3\" type=\"checkbox\" ><label for=\"sk-estimator-id-3\" class=\"sk-toggleable__label sk-toggleable__label-arrow\">estimator: RandomForestClassifier</label><div class=\"sk-toggleable__content\"><pre>RandomForestClassifier(random_state=42)</pre></div></div></div><div class=\"sk-serial\"><div class=\"sk-item\"><div class=\"sk-estimator sk-toggleable\"><input class=\"sk-toggleable__control sk-hidden--visually\" id=\"sk-estimator-id-4\" type=\"checkbox\" ><label for=\"sk-estimator-id-4\" class=\"sk-toggleable__label sk-toggleable__label-arrow\">RandomForestClassifier</label><div class=\"sk-toggleable__content\"><pre>RandomForestClassifier(random_state=42)</pre></div></div></div></div></div></div></div></div></div></div>"
            ]
          },
          "metadata": {},
          "execution_count": 54
        }
      ]
    },
    {
      "cell_type": "code",
      "source": [
        "# Get the best hyperparameters and refit the model\n",
        "best_params = grid_search.best_params_\n",
        "best_CLF = grid_search.best_estimator_\n",
        "best_CLF.fit(X_train_features_reshaped, y_train_subset)\n",
        "\n",
        "# Make predictions using the best model\n",
        "best_rf_predictions = best_CLF.predict(X_test_features_reshaped)\n",
        "\n",
        "# Evaluate the best model\n",
        "best_rf_accuracy = accuracy_score(y_test_subset, best_rf_predictions)\n",
        "best_rf_precision = precision_score(y_test_subset, best_rf_predictions)\n",
        "best_rf_recall = recall_score(y_test_subset, best_rf_predictions)\n",
        "best_rf_f1 = f1_score(y_test_subset, best_rf_predictions)"
      ],
      "metadata": {
        "id": "6Vf-1MMdxdRH"
      },
      "execution_count": 55,
      "outputs": []
    },
    {
      "cell_type": "code",
      "source": [
        "\n",
        "print(\"Best Random Forest Model - Accuracy:\", best_rf_accuracy, \" Precision:\",\n",
        "      best_rf_precision, \" Recall:\", best_rf_recall, \" F1-Score:\", best_rf_f1)\n",
        "\n",
        "best_cm = confusion_matrix(y_test_subset, best_rf_predictions)\n",
        "print(\"Best Confusion Matrix \\n\", best_cm)\n"
      ],
      "metadata": {
        "colab": {
          "base_uri": "https://localhost:8080/"
        },
        "id": "JH01nfSBxdTQ",
        "outputId": "66c68d0d-2ce5-4366-d47b-16bc772fbf5b"
      },
      "execution_count": 56,
      "outputs": [
        {
          "output_type": "stream",
          "name": "stdout",
          "text": [
            "Best Random Forest Model - Accuracy: 0.8  Precision: 0.8061224489795918  Recall: 0.9875  F1-Score: 0.8876404494382023\n",
            "Best Confusion Matrix \n",
            " [[ 1 19]\n",
            " [ 1 79]]\n"
          ]
        }
      ]
    },
    {
      "cell_type": "code",
      "source": [
        "import matplotlib.pyplot as plt\n",
        "\n",
        "# Data for the models and their performance metrics\n",
        "models = ['AutoEncoder + Random Forest', 'CNN', 'LSTM']\n",
        "accuracy = [ 0.8, 0.81,  0.63]\n",
        "precision = [ 0.8, 0.82,  0.77]\n",
        "recall = [ 0.98, 0.96,  0.75]\n",
        "f1_score = [ 0.88, 0.89, 0.76]\n",
        "\n",
        "# Set the height of the bars\n",
        "bar_height = 0.2\n",
        "\n",
        "# Set the positions of the bars on the y-axis\n",
        "r1 = range(len(models))\n",
        "r2 = [y + bar_height for y in r1]\n",
        "r3 = [y + bar_height for y in r2]\n",
        "r4 = [y + bar_height for y in r3]\n",
        "\n",
        "# Create the horizontal bar graph\n",
        "plt.barh(r1, accuracy, color='b', height=bar_height, edgecolor='grey', label='Accuracy')\n",
        "plt.barh(r2, precision, color='g', height=bar_height, edgecolor='grey', label='Precision')\n",
        "plt.barh(r3, recall, color='r', height=bar_height, edgecolor='grey', label='Recall')\n",
        "plt.barh(r4, f1_score, color='purple', height=bar_height, edgecolor='grey', label='F1-Score')\n",
        "\n",
        "# Add labels and title\n",
        "plt.xlabel('Score')\n",
        "plt.yticks([r + bar_height*1.5 for r in range(len(models))], models)\n",
        "plt.ylabel('Models')\n",
        "plt.title('Performance Metrics Comparison')\n",
        "plt.legend()\n",
        "\n",
        "# Show the plot\n",
        "plt.tight_layout()\n",
        "plt.show()\n"
      ],
      "metadata": {
        "colab": {
          "base_uri": "https://localhost:8080/",
          "height": 487
        },
        "id": "Z243Plzm-JBD",
        "outputId": "bce5dbf3-f0f9-4264-c0bd-f6959fe5855a"
      },
      "execution_count": 1,
      "outputs": [
        {
          "output_type": "display_data",
          "data": {
            "text/plain": [
              "<Figure size 640x480 with 1 Axes>"
            ],
            "image/png": "[encoded data removed]"
          },
          "metadata": {}
        }
      ]
    }
  ]
}